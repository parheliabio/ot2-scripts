{
 "cells": [
  {
   "cell_type": "code",
   "execution_count": null,
   "metadata": {},
   "outputs": [],
   "source": [
    "####################MODIFIABLE RUN PARAMETERS#########################    \n",
    "\n",
    "wellslist=['A1','B1','C1']\n",
    "\n",
    "tiprack_starting_pos ={\n",
    "    \"tiprack_10\" : 'A1',\n",
    "    \"tiprack_300\" : 'A1'\n",
    "}\n",
    "\n",
    "#Antibody incubation time in seconds\n",
    "ABS_INCUBATION_TIME = 12*60*60\n",
    "\n",
    "#debug mode skips all incubations, prints out additional info\n",
    "debug = False\n",
    "\n",
    "####################FIXED RUN PARAMETERS######################### \n",
    "\n",
    "API_VERSION= '2.7'\n",
    "default_flow_rate = 50\n",
    "well_flow_rate = 5\n",
    "sample_flow_rate = 0.2\n",
    "wash_volume = 150\n",
    "USE_TROUGH = True\n",
    "\n",
    "class Object:\n",
    "    pass\n",
    "\n",
    "####################LABWARE LAYOUT ON DECK#########################    \n",
    "labwarePositions = Object()\n",
    "labwarePositions.buffers_reservoir = 1\n",
    "labwarePositions.par2 = 2\n",
    "labwarePositions.antibodies_plate = 3\n",
    "labwarePositions.tiprack_300 = 6\n"
   ]
  },
  {
   "cell_type": "code",
   "execution_count": null,
   "metadata": {},
   "outputs": [],
   "source": [
    "####################GENERAL SETUP################################\n",
    "\n",
    "\n",
    "from opentrons import execute, simulate\n",
    "import string\n",
    "import json\n",
    "import time\n",
    "import logging\n",
    "logging.getLogger('opentrons').setLevel(logging.ERROR)\n",
    "\n",
    "\n",
    "stats = Object()\n",
    "stats.volume = 0\n",
    "\n",
    "\n",
    "\n",
    "####################! FUNCTIONS - DO NOT MODIFY !######################### \n",
    "def washSamples(pipette, sourceSolutionWell, samples, volume, num_repeats=1):\n",
    "\n",
    "    try:\n",
    "        iter(samples)\n",
    "        #print('samples are iterable')\n",
    "    except TypeError:\n",
    "        #print('samples arent iterable')\n",
    "        samples = [samples]\n",
    "    \n",
    "    pipette.pick_up_tip()\n",
    "    \n",
    "    if(len(samples)==0):\n",
    "        samples = [samples]\n",
    "    print(\"Replacing solution on samples:\" +str(samples) + \" len=\" + str(len(samples)))\n",
    "    for i in range(0, num_repeats):\n",
    "        print (\"Iteration:\"+ str(i))\n",
    "        for s in samples:\n",
    "            print (\"Washing sample:\" + str(s))\n",
    "            pipette.aspirate(volume, sourceSolutionWell, rate=well_flow_rate)\n",
    "            pipette.dispense(volume, s, rate=sample_flow_rate).blow_out()\n",
    "            stats.volume += volume\n",
    "    \n",
    "    pipette.drop_tip()\n",
    "    \n",
    "def dilute_and_apply_fixative(pipette, sourceSolutionWell, dilutant_buffer_well, samples, volume):\n",
    "    try:\n",
    "        iter(samples)\n",
    "        #print('samples are iterable')\n",
    "    except TypeError:\n",
    "        #print('samples arent iterable')\n",
    "        samples = [samples]\n",
    "    \n",
    "    pipette.pick_up_tip()\n",
    "    \n",
    "    if(len(samples)==0):\n",
    "        samples = [samples]\n",
    "    print(\"Applying fixative to samples:\" +str(samples) + \" len=\" + str(len(samples)))\n",
    " \n",
    "    for s in samples:\n",
    "        print (\"Diluting fixative: \" + str(s))\n",
    "        pipette.aspirate(volume+50, dilutant_buffer_well, rate=well_flow_rate)\n",
    "        pipette.dispense(volume+50, sourceSolutionWell, rate=well_flow_rate)\n",
    "        for iterator in range(0, 3):\n",
    "            print (\"Mixing: \" + str(iterator+1))\n",
    "            pipette.aspirate(volume, sourceSolutionWell, rate=well_flow_rate)\n",
    "            pipette.dispense(volume, sourceSolutionWell, rate=well_flow_rate)\n",
    "        print (\"Applying fixative to sample: \" + str(s))\n",
    "        pipette.aspirate(volume, sourceSolutionWell, rate=well_flow_rate)\n",
    "        pipette.dispense(volume, s, rate=sample_flow_rate).blow_out()\n",
    "        stats.volume += volume\n",
    "    \n",
    "    pipette.drop_tip()\n",
    "    \n",
    "def mix(pipette, sourceSolutionWell, volume, num_repeats):\n",
    "   \n",
    "    pipette.pick_up_tip()\n",
    "    \n",
    "    print(\"Mixing solution in samples:\" +str(sourceSolutionWell))\n",
    "    for i in range(0, num_repeats):\n",
    "        print (\"Iteration:\"+ str(i))\n",
    "        pipette.aspirate(volume, sourceSolutionWell, rate=2)\n",
    "        pipette.dispense(volume, sourceSolutionWell, rate=2)\n",
    "    \n",
    "    pipette.drop_tip()\n",
    "\n",
    "\n",
    "def countdown(t):\n",
    "    while t:\n",
    "        mins, secs = divmod(t, 60)\n",
    "        timeformat = '{:02d}:{:02d}'.format(mins, secs)\n",
    "        print(timeformat, end='\\r')\n",
    "        if (not debug): time.sleep(1)\n",
    "        t -= 1\n",
    "    print('off we go..')\n",
    "    \n",
    "\n"
   ]
  },
  {
   "cell_type": "code",
   "execution_count": null,
   "metadata": {},
   "outputs": [],
   "source": [
    "###########################LABWARE SETUP#################################\n",
    "\n",
    "protocol = execute.get_protocol_api(API_VERSION) \n",
    "\n",
    "if debug: print(protocol)\n",
    "\n",
    "tiprack_300 = protocol.load_labware('opentrons_96_tiprack_300ul', labwarePositions.tiprack_300, \"tiprack 300ul\")\n",
    "\n",
    "if debug: print(tiprack_300)\n",
    "\n",
    "pipette_300 =  protocol.load_instrument('p300_single', 'right', tip_racks = [tiprack_300])\n",
    "pipette_300.flow_rate.dispense = default_flow_rate\n",
    "pipette_300.flow_rate.aspirate = default_flow_rate\n",
    "pipette_300.starting_tip = tiprack_300.well(tiprack_starting_pos['tiprack_300'])\n",
    "\n",
    "if debug: print(pipette_300)\n",
    "    \n",
    "\n",
    "par2_slides = protocol.load_labware('par2_slides', labwarePositions.par2, 'par2_slides')\n",
    "\n",
    "#trough12_def = json.loads(AXYGEN_12well_plate_DEF_JSON)\n",
    "\n",
    "#trough12 = protocol.load_labware_from_definition(trough12_def, labwarePositions.buffers_reservoir, '12-trough buffers reservoir')\n",
    "\n",
    "#custom_96_def = json.loads(CUSTOM_96well_plate_DEF_JSON)\n",
    "\n",
    "\n",
    "custom_96 = protocol.load_labware('black_96', labwarePositions.antibodies_plate, '96-well-plate')\n",
    "\n",
    "trough12 = protocol.load_labware('axygen_12well_trough', labwarePositions.buffers_reservoir, 'Axygen_12well_trough')\n",
    "\n",
    "temp_mod = protocol.load_module('temperature module', '8')\n",
    "\n",
    "par2_on_heat_module=temp_mod.load_labware('par2_slides')\n",
    "\n",
    "\n",
    "if debug: print(par2)\n",
    "    \n"
   ]
  },
  {
   "cell_type": "code",
   "execution_count": null,
   "metadata": {},
   "outputs": [],
   "source": [
    "buffer_wells = trough12.wells_by_name()\n",
    "\n",
    "buffers = Object()\n",
    "buffers.retreaval =  buffer_wells['A1']\n",
    "buffers.TBS_wash =  buffer_wells['A2']\n",
    "buffers.water =  buffer_wells['A3']\n",
    "buffers.storage = buffer_wells['A4']\n",
    "\n",
    "\n",
    "preblock_wells = custom_96.rows()[0]\n",
    "antibody_wells = custom_96.rows()[1]\n",
    "enzymeblock_wells = custom_96.rows()[2]\n",
    "hrpsecondaryab_wells = custom_96.rows()[3]\n",
    "substrate_wells = custom_96.rows()[4]\n",
    "DAB_wells = custom_96.rows()[5]\n",
    "\n",
    "sample_chambers = []\n",
    "\n",
    "for well in wellslist:\n",
    "    sample_chambers.append(par2_on_heat_module.wells_by_name()[well])\n",
    "\n",
    "if debug: print(sample_chambers)\n"
   ]
  },
  {
   "cell_type": "code",
   "execution_count": null,
   "metadata": {},
   "outputs": [],
   "source": [
    "#################PROTOCOL####################\n",
    "protocol.home()"
   ]
  },
  {
   "cell_type": "code",
   "execution_count": null,
   "metadata": {},
   "outputs": [],
   "source": [
    "#pipette_300.drop_tip()"
   ]
  },
  {
   "cell_type": "code",
   "execution_count": null,
   "metadata": {},
   "outputs": [],
   "source": [
    "temp_mod.set_temperature(95)"
   ]
  },
  {
   "cell_type": "code",
   "execution_count": null,
   "metadata": {
    "scrolled": false
   },
   "outputs": [],
   "source": [
    "print(\"retreaval\")\n",
    "countdown(2400)"
   ]
  },
  {
   "cell_type": "code",
   "execution_count": null,
   "metadata": {},
   "outputs": [],
   "source": [
    "temp_mod.set_temperature(25)"
   ]
  },
  {
   "cell_type": "code",
   "execution_count": null,
   "metadata": {},
   "outputs": [],
   "source": [
    "#temp_mod.deactivate()"
   ]
  },
  {
   "cell_type": "code",
   "execution_count": null,
   "metadata": {},
   "outputs": [],
   "source": [
    "print(\"retreaval\")\n",
    "countdown(1200)"
   ]
  },
  {
   "cell_type": "code",
   "execution_count": null,
   "metadata": {},
   "outputs": [],
   "source": [
    "#WASHING SAMPLES WITH TBS\n",
    "print(\"washing in TBS\")\n",
    "washSamples(pipette_300, buffers.TBS_wash, sample_chambers, wash_volume, num_repeats=2)\n",
    "#countdown(300)"
   ]
  },
  {
   "cell_type": "code",
   "execution_count": null,
   "metadata": {},
   "outputs": [],
   "source": [
    "#pipette_300.drop_tip()"
   ]
  },
  {
   "cell_type": "code",
   "execution_count": null,
   "metadata": {},
   "outputs": [],
   "source": [
    "print(\"preblocking\")\n",
    "for i in range (len(wellslist)):\n",
    "    washSamples(pipette_300, preblock_wells[i], sample_chambers[i], wash_volume)\n",
    "#INCUBATE 15 MIN\n",
    "print(\"preblocking incubation: 15 min\")\n",
    "countdown(3600)\n"
   ]
  },
  {
   "cell_type": "code",
   "execution_count": null,
   "metadata": {
    "scrolled": false
   },
   "outputs": [],
   "source": [
    "#countdown(3600)"
   ]
  },
  {
   "cell_type": "code",
   "execution_count": null,
   "metadata": {},
   "outputs": [],
   "source": [
    "#APPLYING ANTIBODY COCKTAILS TO SAMPLES\n",
    "print(\"applying antibodies\")\n",
    "for i in range (len(wellslist)):\n",
    "    washSamples(pipette_300, antibody_wells[i], sample_chambers[i], wash_volume)\n",
    "\n",
    "#INCUBATE 120 MIN\n",
    "print(\"staining incubation: \" + str(ABS_INCUBATION_TIME/3600) +\"h\" )\n",
    "countdown(ABS_INCUBATION_TIME)"
   ]
  },
  {
   "cell_type": "code",
   "execution_count": null,
   "metadata": {},
   "outputs": [],
   "source": [
    "#washSamples(pipette_300, buffers.TBS_wash, sample_chambers, wash_volume, num_repeats=1)"
   ]
  },
  {
   "cell_type": "code",
   "execution_count": null,
   "metadata": {},
   "outputs": [],
   "source": [
    "#WASHING SAMPLES WITH TBS\n",
    "#three individual repeats below is because they need particular incubation time between them\n",
    "print(\"washing with TBS\")\n",
    "washSamples(pipette_300, buffers.TBS_wash, sample_chambers, wash_volume, num_repeats=1)\n",
    "countdown(180)\n",
    "washSamples(pipette_300, buffers.TBS_wash, sample_chambers, wash_volume, num_repeats=1)\n",
    "countdown(180)\n",
    "washSamples(pipette_300, buffers.TBS_wash, sample_chambers, wash_volume, num_repeats=1)\n",
    "countdown(180)\n",
    "washSamples(pipette_300, buffers.TBS_wash, sample_chambers, wash_volume, num_repeats=1)\n",
    "countdown(180)\n",
    "washSamples(pipette_300, buffers.TBS_wash, sample_chambers, wash_volume, num_repeats=1)\n",
    "countdown(180)"
   ]
  },
  {
   "cell_type": "code",
   "execution_count": null,
   "metadata": {},
   "outputs": [],
   "source": [
    "#APPLYING enzyme blocking\n",
    "print(\"applying enzyme blocking\")\n",
    "for i in range (len(wellslist)):\n",
    "    washSamples(pipette_300, enzymeblock_wells[i], sample_chambers[i], wash_volume)\n",
    "\n",
    "#INCUBATE 120 MIN\n",
    "print(\"hrp blocking incubation: 10min\" )\n",
    "countdown(600)"
   ]
  },
  {
   "cell_type": "code",
   "execution_count": null,
   "metadata": {},
   "outputs": [],
   "source": [
    "washSamples(pipette_300, buffers.TBS_wash, sample_chambers, wash_volume, num_repeats=2)\n",
    "countdown(180)\n",
    "washSamples(pipette_300, buffers.TBS_wash, sample_chambers, wash_volume, num_repeats=2)\n",
    "countdown(180)"
   ]
  },
  {
   "cell_type": "code",
   "execution_count": null,
   "metadata": {},
   "outputs": [],
   "source": [
    "#APPLYING HRP SECONDARY ANTIBODY COCKTAILS TO SAMPLES\n",
    "print(\"applying hrpsecondaryab\")\n",
    "for i in range (len(wellslist)):\n",
    "    washSamples(pipette_300, hrpsecondaryab_wells[i], sample_chambers[i], wash_volume)\n",
    "\n",
    "#INCUBATE 120 MIN\n",
    "print(\"staining incubation: \" + str(ABS_INCUBATION_TIME/3600) +\"h\" )\n",
    "countdown(1800)"
   ]
  },
  {
   "cell_type": "code",
   "execution_count": null,
   "metadata": {},
   "outputs": [],
   "source": [
    "#three individual repeats below is because they need particular incubation time between them\n",
    "print(\"washing with TBS\")\n",
    "washSamples(pipette_300, buffers.TBS_wash, sample_chambers, wash_volume, num_repeats=1)\n",
    "countdown(180)\n",
    "washSamples(pipette_300, buffers.TBS_wash, sample_chambers, wash_volume, num_repeats=1)\n",
    "countdown(180)\n",
    "washSamples(pipette_300, buffers.TBS_wash, sample_chambers, wash_volume, num_repeats=1)\n",
    "countdown(180)"
   ]
  },
  {
   "cell_type": "code",
   "execution_count": null,
   "metadata": {},
   "outputs": [],
   "source": [
    "#DILUTING AND APPLYING THE DAB\n",
    "for i in range (len(wellslist)):\n",
    "    dilute_and_apply_fixative(pipette_300, DAB_wells[i], substrate_wells[i], sample_chambers[i], 200)\n",
    "    \n",
    "print(\"developing substrate\")\n",
    "\n",
    "countdown(600)"
   ]
  },
  {
   "cell_type": "code",
   "execution_count": null,
   "metadata": {},
   "outputs": [],
   "source": [
    "washSamples(pipette_300, buffers.water, sample_chambers, wash_volume, num_repeats=5)\n",
    "countdown(180)"
   ]
  },
  {
   "cell_type": "code",
   "execution_count": null,
   "metadata": {},
   "outputs": [],
   "source": [
    "#STORAGE, washing samples every hour\n",
    "for i in range (48):\n",
    "    washSamples(pipette_300, buffers.storage,sample_chambers, 100)\n",
    "    countdown(3600)\n",
    "    print(\"total dispensed volume: \", str(stats.volume))"
   ]
  },
  {
   "cell_type": "code",
   "execution_count": null,
   "metadata": {},
   "outputs": [],
   "source": []
  }
 ],
 "metadata": {
  "kernelspec": {
   "display_name": "Python 3",
   "language": "python",
   "name": "python3"
  },
  "language_info": {
   "codemirror_mode": {
    "name": "ipython",
    "version": 3
   },
   "file_extension": ".py",
   "mimetype": "text/x-python",
   "name": "python",
   "nbconvert_exporter": "python",
   "pygments_lexer": "ipython3",
   "version": "3.7.1"
  }
 },
 "nbformat": 4,
 "nbformat_minor": 4
}
