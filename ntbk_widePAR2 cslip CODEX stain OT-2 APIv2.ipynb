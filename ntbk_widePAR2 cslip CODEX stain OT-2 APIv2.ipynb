{
 "cells": [
  {
   "cell_type": "code",
   "execution_count": 1,
   "metadata": {},
   "outputs": [],
   "source": [
    "####################MODIFIABLE RUN PARAMETERS#########################    \n",
    "\n",
    "wellslist=['A1','A2','A3','A4','B1','B2','B3','B4','C1','C2','C3','C4',]\n",
    "    \n",
    "tiprack_starting_pos ={\n",
    "    \"tiprack_10\" : 'A1',\n",
    "    \"tiprack_300\" : 'A1'\n",
    "}\n",
    "\n",
    "#Antibody incubation time in seconds\n",
    "ABS_INCUBATION_TIME = 5400\n",
    "\n",
    "#debug mode skips all incubations, prints out additional info\n",
    "debug = False\n",
    "\n",
    "####################FIXED RUN PARAMETERS######################### \n",
    "\n",
    "API_VERSION= '2.7'\n",
    "default_flow_rate = 50\n",
    "well_flow_rate = 5\n",
    "sample_flow_rate = 0.2\n",
    "wash_volume = 150\n",
    "USE_TROUGH = True\n",
    "\n",
    "class Object:\n",
    "    pass\n",
    "\n",
    "####################LABWARE LAYOUT ON DECK#########################    \n",
    "labwarePositions = Object()\n",
    "labwarePositions.buffers_reservoir = 1\n",
    "labwarePositions.par2 = 2\n",
    "labwarePositions.antibodies_plate = 3\n",
    "labwarePositions.tiprack_300 = 6\n"
   ]
  },
  {
   "cell_type": "code",
   "execution_count": 2,
   "metadata": {},
   "outputs": [],
   "source": [
    "####################GENERAL SETUP################################\n",
    "\n",
    "\n",
    "from opentrons import execute, simulate\n",
    "import string\n",
    "import json\n",
    "import time\n",
    "import logging\n",
    "logging.getLogger('opentrons').setLevel(logging.ERROR)\n",
    "\n",
    "\n",
    "stats = Object()\n",
    "stats.volume = 0\n",
    "\n",
    "\n",
    "\n",
    "####################! FUNCTIONS - DO NOT MODIFY !######################### \n",
    "def washSamples(pipette, sourceSolutionWell, samples, volume, num_repeats=1):\n",
    "\n",
    "    try:\n",
    "        iter(samples)\n",
    "        #print('samples are iterable')\n",
    "    except TypeError:\n",
    "        #print('samples arent iterable')\n",
    "        samples = [samples]\n",
    "    \n",
    "    pipette.pick_up_tip()\n",
    "    \n",
    "    if(len(samples)==0):\n",
    "        samples = [samples]\n",
    "    print(\"Replacing solution on samples:\" +str(samples) + \" len=\" + str(len(samples)))\n",
    "    for i in range(0, num_repeats):\n",
    "        print (\"Iteration:\"+ str(i))\n",
    "        for s in samples:\n",
    "            print (\"Washing sample:\" + str(s))\n",
    "            pipette.aspirate(volume, sourceSolutionWell, rate=well_flow_rate)\n",
    "            pipette.dispense(volume, s, rate=sample_flow_rate).blow_out()\n",
    "            stats.volume += volume\n",
    "    \n",
    "    pipette.drop_tip()\n",
    "    \n",
    "def dilute_and_apply_fixative(pipette, sourceSolutionWell, dilutant_buffer_well, samples, volume):\n",
    "    try:\n",
    "        iter(samples)\n",
    "        #print('samples are iterable')\n",
    "    except TypeError:\n",
    "        #print('samples arent iterable')\n",
    "        samples = [samples]\n",
    "    \n",
    "    pipette.pick_up_tip()\n",
    "    \n",
    "    if(len(samples)==0):\n",
    "        samples = [samples]\n",
    "    print(\"Applying fixative to samples:\" +str(samples) + \" len=\" + str(len(samples)))\n",
    " \n",
    "    for s in samples:\n",
    "        print (\"Diluting fixative: \" + str(s))\n",
    "        pipette.aspirate(volume+50, dilutant_buffer_well, rate=well_flow_rate)\n",
    "        pipette.dispense(volume+50, sourceSolutionWell, rate=well_flow_rate)\n",
    "        for iterator in range(0, 3):\n",
    "            print (\"Mixing: \" + str(iterator+1))\n",
    "            pipette.aspirate(volume, sourceSolutionWell, rate=well_flow_rate)\n",
    "            pipette.dispense(volume, sourceSolutionWell, rate=well_flow_rate)\n",
    "        print (\"Applying fixative to sample: \" + str(s))\n",
    "        pipette.aspirate(volume, sourceSolutionWell, rate=well_flow_rate)\n",
    "        pipette.dispense(volume, s, rate=sample_flow_rate).blow_out()\n",
    "        stats.volume += volume\n",
    "    \n",
    "    pipette.drop_tip()\n",
    "    \n",
    "def mix(pipette, sourceSolutionWell, volume, num_repeats):\n",
    "   \n",
    "    pipette.pick_up_tip()\n",
    "    \n",
    "    print(\"Mixing solution in samples:\" +str(sourceSolutionWell))\n",
    "    for i in range(0, num_repeats):\n",
    "        print (\"Iteration:\"+ str(i))\n",
    "        pipette.aspirate(volume, sourceSolutionWell, rate=2)\n",
    "        pipette.dispense(volume, sourceSolutionWell, rate=2)\n",
    "    \n",
    "    pipette.drop_tip()\n",
    "\n",
    "\n",
    "def countdown(t):\n",
    "    while t:\n",
    "        mins, secs = divmod(t, 60)\n",
    "        timeformat = '{:02d}:{:02d}'.format(mins, secs)\n",
    "        print(timeformat, end='\\r')\n",
    "        if (not debug): time.sleep(1)\n",
    "        t -= 1\n",
    "    print('off we go..')\n",
    "    \n"
   ]
  },
  {
   "cell_type": "code",
   "execution_count": 3,
   "metadata": {},
   "outputs": [],
   "source": [
    "###########################LABWARE SETUP#################################\n",
    "\n",
    "protocol = execute.get_protocol_api(API_VERSION) \n",
    "\n",
    "if debug: print(protocol)\n",
    "\n",
    "tiprack_300 = protocol.load_labware('opentrons_96_tiprack_300ul', labwarePositions.tiprack_300, \"tiprack 300ul\")\n",
    "\n",
    "if debug: print(tiprack_300)\n",
    "\n",
    "pipette_300 =  protocol.load_instrument('p300_single', 'right', tip_racks = [tiprack_300])\n",
    "pipette_300.flow_rate.dispense = default_flow_rate\n",
    "pipette_300.flow_rate.aspirate = default_flow_rate\n",
    "pipette_300.starting_tip = tiprack_300.well(tiprack_starting_pos['tiprack_300'])\n",
    "\n",
    "if debug: print(pipette_300)\n",
    "\n",
    "\n",
    "\n",
    "par2 = protocol.load_labware('par2_plastic_wide_cslps', labwarePositions.par2, 'PAR2')\n",
    "\n",
    "\n",
    "trough12 = protocol.load_labware('axygen_12well_trough', labwarePositions.buffers_reservoir, '12-trough buffers reservoir')\n",
    "\n",
    "\n",
    "custom_96 = protocol.load_labware('black_96', labwarePositions.antibodies_plate, '96-well-plate')\n",
    "\n",
    "\n",
    "\n",
    "\n",
    "if debug: print(par2)\n",
    "    \n",
    "buffer_wells = trough12.wells_by_name()\n",
    "\n",
    "buffers = Object()\n",
    "buffers.S1_PFA =  buffer_wells['A1']\n",
    "buffers.S2 =  buffer_wells['A2']\n",
    "buffers.PFA_S4 = buffer_wells['A3']\n",
    "buffers.MeOH =  buffer_wells['A4']\n",
    "buffers.PBS = buffer_wells['A5']\n",
    "buffers.H2 = buffer_wells['A6']\n",
    "buffers.pinkbuffer = buffer_wells['A7']\n",
    "buffers.bluebuffer = buffer_wells['A8']\n",
    "buffers.S4 =  buffer_wells['A9']\n",
    "\n",
    "preblock_wells = custom_96.rows()[0]\n",
    "antibody_wells = custom_96.rows()[1]\n",
    "BS3_wells = custom_96.rows()[2]\n",
    "rendering_wells = custom_96.rows()[3]\n",
    "\n",
    "sample_chambers = []\n",
    "\n",
    "for well in wellslist:\n",
    "    sample_chambers.append(par2.wells_by_name()[well])\n",
    "\n",
    "if debug: print(sample_chambers)\n"
   ]
  },
  {
   "cell_type": "code",
   "execution_count": 15,
   "metadata": {},
   "outputs": [
    {
     "name": "stdout",
     "output_type": "stream",
     "text": [
      "Starting the CODEX staining protocol\n"
     ]
    }
   ],
   "source": [
    "#################PROTOCOL####################\n",
    "print(\"Starting the CODEX staining protocol\")\n",
    "protocol.home()"
   ]
  },
  {
   "cell_type": "code",
   "execution_count": null,
   "metadata": {},
   "outputs": [],
   "source": [
    "#WASHING SAMPLES WITH PFA\n",
    "print(\"first fix\")\n",
    "washSamples(pipette_300, buffers.PFA_S1, sample_chambers, wash_volume)\n",
    "#INCUBATE FOR 10 MIN\n",
    "print(\"first fix incubation: 10 min\")\n",
    "countdown(600)"
   ]
  },
  {
   "cell_type": "code",
   "execution_count": null,
   "metadata": {},
   "outputs": [],
   "source": [
    "#WASHING SAMPLES WITH S2\n",
    "print(\"washing in S2\")\n",
    "washSamples(pipette_300, buffers.S2, sample_chambers, wash_volume, num_repeats=2)"
   ]
  },
  {
   "cell_type": "code",
   "execution_count": null,
   "metadata": {},
   "outputs": [],
   "source": [
    "#WASHING SAMPLES WITH PREBLOCK\n",
    "print(\"preblocking\")\n",
    "for i in range (len(wellslist)):\n",
    "    washSamples(pipette_300, preblock_wells[i], sample_chambers[i], wash_volume)\n",
    "#INCUBATE 15 MIN\n",
    "print(\"preblocking incubation: 15 min\")\n",
    "countdown(900)\n"
   ]
  },
  {
   "cell_type": "code",
   "execution_count": null,
   "metadata": {},
   "outputs": [],
   "source": [
    "#APPLYING ANTIBODY COCKTAILS TO SAMPLES\n",
    "print(\"applying antibodies\")\n",
    "for i in range (len(wellslist)):\n",
    "    washSamples(pipette_300, antibody_wells[i], sample_chambers[i], wash_volume)\n",
    "\n",
    "#INCUBATE 120 MIN\n",
    "print(\"staining incubation: \" + str(ABS_INCUBATION_TIME/3600) +\"h\" )\n",
    "countdown(ABS_INCUBATION_TIME)"
   ]
  },
  {
   "cell_type": "code",
   "execution_count": null,
   "metadata": {},
   "outputs": [],
   "source": [
    "#WASHING SAMPLES WITH S2\n",
    "#three individual repeats below is because they need particular incubation time between them\n",
    "print(\"washing with s2\")\n",
    "washSamples(pipette_300, buffers.S2, sample_chambers, wash_volume, num_repeats=2)\n",
    "#INCUBATE FOR 10 MIN \n",
    "print(\"first incubation in s2: 5 min\")\n",
    "countdown(300)"
   ]
  },
  {
   "cell_type": "code",
   "execution_count": null,
   "metadata": {},
   "outputs": [],
   "source": [
    "#WASHING SAMPLES WITH PFA\n",
    "print(\"second fix\")\n",
    "washSamples(pipette_300, buffers.PFA_S4, sample_chambers, wash_volume)\n",
    "#INCUBATE FOR 10 MIN \n",
    "print(\"second fix incubation: 5 min\")\n",
    "countdown(300)"
   ]
  },
  {
   "cell_type": "code",
   "execution_count": null,
   "metadata": {},
   "outputs": [],
   "source": [
    "#WASHING SAMPLES WITH PBS\n",
    "print(\"PBS wash\")\n",
    "washSamples(pipette_300, buffers.PBS, sample_chambers, wash_volume, num_repeats=2)"
   ]
  },
  {
   "cell_type": "code",
   "execution_count": null,
   "metadata": {},
   "outputs": [],
   "source": [
    "#FIXING SAMPLES WITH Methanol\n",
    "print(\"applying methanol\")\n",
    "washSamples(pipette_300, buffers.methanol, sample_chambers, wash_volume, num_repeats=2)\n",
    "#INCUBATE FOR 5 MIN\n",
    "print(\"methanol incubation: 5 min\")\n",
    "countdown(300)"
   ]
  },
  {
   "cell_type": "code",
   "execution_count": null,
   "metadata": {},
   "outputs": [],
   "source": [
    "#WASHING SAMPLES WITH PBS\n",
    "print(\"PBS wash\")\n",
    "washSamples(pipette_300, buffers.PBS, sample_chambers, wash_volume, num_repeats=2)"
   ]
  },
  {
   "cell_type": "code",
   "execution_count": null,
   "metadata": {},
   "outputs": [],
   "source": [
    "#DILUTING AND APPLYING THE FIXATIVE\n",
    "for i in range (len(wellslist)):\n",
    "    dilute_and_apply_fixative(pipette_300, BS3_wells[i], buffers.PBS, sample_chambers[i], wash_volume)\n",
    "    \n",
    "print(\"third fix incubation: 10min\")\n",
    "\n",
    "countdown(600)"
   ]
  },
  {
   "cell_type": "code",
   "execution_count": null,
   "metadata": {},
   "outputs": [],
   "source": [
    "#WASHING SAMPLES WITH PBS\n",
    "washSamples(pipette_300, buffers.PBS, sample_chambers, wash_volume, 2)"
   ]
  },
  {
   "cell_type": "code",
   "execution_count": null,
   "metadata": {},
   "outputs": [],
   "source": [
    "#PRE-CLEARING THE TISSUE\n",
    "for i in range (3):\n",
    "    washSamples(pipette_300, buffers.bluebuffer, sample_chambers, wash_volume, num_repeats=2)\n",
    "    countdown(30)\n",
    "    washSamples(pipette_300, buffers.pinkbuffer, sample_chambers, wash_volume, num_repeats=2)\n",
    "    washSamples(pipette_300, buffers.H2, sample_chambers, wash_volume, num_repeats=2)"
   ]
  },
  {
   "cell_type": "code",
   "execution_count": null,
   "metadata": {},
   "outputs": [],
   "source": [
    "#Equilibration in staining buffer\n",
    "washSamples(pipette_300, buffers.pinkbuffer, sample_chambers, wash_volume)"
   ]
  },
  {
   "cell_type": "code",
   "execution_count": null,
   "metadata": {},
   "outputs": [],
   "source": [
    "#RENDERING\n",
    "for i in range (len(wellslist)):\n",
    "    washSamples(pipette_300, rendering_wells[i], sample_chambers[i], wash_volume)\n",
    "#INCUBATE FOR 10 MIN\n",
    "countdown(600)"
   ]
  },
  {
   "cell_type": "code",
   "execution_count": null,
   "metadata": {},
   "outputs": [],
   "source": [
    "#WASH SAMPLES IN PINK BUFFER\n",
    "washSamples(pipette_300, buffers.pinkbuffer, sample_chambers, wash_volume, num_repeats=2)"
   ]
  },
  {
   "cell_type": "code",
   "execution_count": null,
   "metadata": {},
   "outputs": [],
   "source": [
    "#STORAGE, washing samples every hour\n",
    "for i in range (48):\n",
    "    washSamples(pipette_300, buffers.S4,sample_chambers, wash_volume)\n",
    "    countdown(3600)\n",
    "    print(\"total dispensed volume: \", str(stats.volume))"
   ]
  },
  {
   "cell_type": "code",
   "execution_count": null,
   "metadata": {},
   "outputs": [],
   "source": []
  }
 ],
 "metadata": {
  "kernelspec": {
   "display_name": "Python 3",
   "language": "python",
   "name": "python3"
  },
  "language_info": {
   "codemirror_mode": {
    "name": "ipython",
    "version": 3
   },
   "file_extension": ".py",
   "mimetype": "text/x-python",
   "name": "python",
   "nbconvert_exporter": "python",
   "pygments_lexer": "ipython3",
   "version": "3.7.1"
  }
 },
 "nbformat": 4,
 "nbformat_minor": 4
}
